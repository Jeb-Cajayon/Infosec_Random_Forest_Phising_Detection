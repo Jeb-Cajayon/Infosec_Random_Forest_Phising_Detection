{
 "cells": [
  {
   "cell_type": "code",
   "execution_count": 1,
   "id": "d377008d",
   "metadata": {},
   "outputs": [],
   "source": [
    "import matplotlib.pyplot as plt\n",
    "import seaborn as sns\n",
    "import pandas as pd\n",
    "import numpy as np\n",
    "from sklearn.model_selection import train_test_split\n",
    "from sklearn.metrics import accuracy_score\n",
    "from sklearn.ensemble import RandomForestClassifier\n",
    "from sklearn.metrics import confusion_matrix\n",
    "import urllib.parse\n",
    "%matplotlib inline"
   ]
  },
  {
   "cell_type": "code",
   "execution_count": 2,
   "id": "67add9ab",
   "metadata": {},
   "outputs": [],
   "source": [
    "#Function that will extract Input URL based on Features\n",
    "#NumDots, SubdomainLevel, PathLevel, UrlLength, NumDash, AtSymbol, \n",
    "#TildeSymbol, NumUnderscore, NumPercent, NumAmpersand, NumHash, NumNumericChars, NoHttps\n",
    "\n",
    "def extract_url_features(url):\n",
    "    parsed_url = urllib.parse.urlparse(url)\n",
    "    #Count the Number of Dots\n",
    "    num_dots = url.count('.')\n",
    "    # Extract the SubdomainLevel feature\n",
    "    subdomain = parsed_url.netloc.split('.')\n",
    "    subdomain_level = len(subdomain) - 2  # Subtract 2 to exclude the top-level domain\n",
    "    # Extract the PathLevel feature\n",
    "    path_level = url.count('/')\n",
    "    #Count the Length of the URL\n",
    "    url_length = len(url)\n",
    "    #Count the Number of Dash in the URL\n",
    "    num_dash = url.count('-')\n",
    "    #Count the @ Symbol in the URL\n",
    "    at_symbol = int('@' in url)\n",
    "    #Count the ∼ Symbol in the URL\n",
    "    tilde_symbol = int('~' in url)\n",
    "    #Count the _ Symbol in the URL\n",
    "    num_underscore = url.count('_')\n",
    "    #Count the % Symbol in the URL\n",
    "    num_percent = url.count('%')\n",
    "    #Count the & Symbol in the URL\n",
    "    num_ampersand = url.count('&')\n",
    "    #Count the number of # in the URL\n",
    "    num_hash = url.count('#')\n",
    "    #Count the numbers in the URL\n",
    "    num_numeric_chars = sum(c.isdigit() for c in url)\n",
    "    #Check if the URL HTTP is Secured\n",
    "    no_https = int(not url.startswith(\"https://\"))\n",
    "    \n",
    "    return {\n",
    "        \"NumDots\": num_dots,\n",
    "        \"SubdomainLevel\": subdomain_level,\n",
    "        \"PathLevel\": path_level,\n",
    "        \"UrlLength\": url_length,\n",
    "        \"NumDash\": num_dash,\n",
    "        \"AtSymbol\": at_symbol,\n",
    "        \"TildeSymbol\": tilde_symbol,\n",
    "        \"NumUnderscore\": num_underscore,\n",
    "        \"NumPercent\": num_percent,\n",
    "        \"NumAmpersand\": num_ampersand,\n",
    "        \"NumHash\": num_hash,\n",
    "        \"NumNumericChars\": num_numeric_chars,\n",
    "        \"NoHttps\": no_https\n",
    "    }"
   ]
  },
  {
   "cell_type": "code",
   "execution_count": 3,
   "id": "9e7670d1",
   "metadata": {},
   "outputs": [],
   "source": [
    "#Function that will assess whether URL is Phishing or not based on Model\n",
    "def predict_url_legitimacy(url, model):\n",
    "    features = extract_url_features(url)\n",
    "    prediction = model.predict([list(features.values())])\n",
    "    return prediction[0]"
   ]
  },
  {
   "cell_type": "code",
   "execution_count": 4,
   "id": "4cfd953b",
   "metadata": {},
   "outputs": [],
   "source": [
    "df = pd.read_csv('Phishing_Legitimate_full.csv')"
   ]
  },
  {
   "cell_type": "code",
   "execution_count": 5,
   "id": "f82da00d",
   "metadata": {},
   "outputs": [
    {
     "data": {
      "text/html": [
       "<div>\n",
       "<style scoped>\n",
       "    .dataframe tbody tr th:only-of-type {\n",
       "        vertical-align: middle;\n",
       "    }\n",
       "\n",
       "    .dataframe tbody tr th {\n",
       "        vertical-align: top;\n",
       "    }\n",
       "\n",
       "    .dataframe thead th {\n",
       "        text-align: right;\n",
       "    }\n",
       "</style>\n",
       "<table border=\"1\" class=\"dataframe\">\n",
       "  <thead>\n",
       "    <tr style=\"text-align: right;\">\n",
       "      <th></th>\n",
       "      <th>id</th>\n",
       "      <th>NumDots</th>\n",
       "      <th>SubdomainLevel</th>\n",
       "      <th>PathLevel</th>\n",
       "      <th>UrlLength</th>\n",
       "      <th>NumDash</th>\n",
       "      <th>NumDashInHostname</th>\n",
       "      <th>AtSymbol</th>\n",
       "      <th>TildeSymbol</th>\n",
       "      <th>NumUnderscore</th>\n",
       "      <th>...</th>\n",
       "      <th>IframeOrFrame</th>\n",
       "      <th>MissingTitle</th>\n",
       "      <th>ImagesOnlyInForm</th>\n",
       "      <th>SubdomainLevelRT</th>\n",
       "      <th>UrlLengthRT</th>\n",
       "      <th>PctExtResourceUrlsRT</th>\n",
       "      <th>AbnormalExtFormActionR</th>\n",
       "      <th>ExtMetaScriptLinkRT</th>\n",
       "      <th>PctExtNullSelfRedirectHyperlinksRT</th>\n",
       "      <th>CLASS_LABEL</th>\n",
       "    </tr>\n",
       "  </thead>\n",
       "  <tbody>\n",
       "    <tr>\n",
       "      <th>0</th>\n",
       "      <td>1</td>\n",
       "      <td>3</td>\n",
       "      <td>1</td>\n",
       "      <td>5</td>\n",
       "      <td>72</td>\n",
       "      <td>0</td>\n",
       "      <td>0</td>\n",
       "      <td>0</td>\n",
       "      <td>0</td>\n",
       "      <td>0</td>\n",
       "      <td>...</td>\n",
       "      <td>0</td>\n",
       "      <td>0</td>\n",
       "      <td>1</td>\n",
       "      <td>1</td>\n",
       "      <td>0</td>\n",
       "      <td>1</td>\n",
       "      <td>1</td>\n",
       "      <td>-1</td>\n",
       "      <td>1</td>\n",
       "      <td>1</td>\n",
       "    </tr>\n",
       "    <tr>\n",
       "      <th>1</th>\n",
       "      <td>2</td>\n",
       "      <td>3</td>\n",
       "      <td>1</td>\n",
       "      <td>3</td>\n",
       "      <td>144</td>\n",
       "      <td>0</td>\n",
       "      <td>0</td>\n",
       "      <td>0</td>\n",
       "      <td>0</td>\n",
       "      <td>2</td>\n",
       "      <td>...</td>\n",
       "      <td>0</td>\n",
       "      <td>0</td>\n",
       "      <td>0</td>\n",
       "      <td>1</td>\n",
       "      <td>-1</td>\n",
       "      <td>1</td>\n",
       "      <td>1</td>\n",
       "      <td>1</td>\n",
       "      <td>1</td>\n",
       "      <td>1</td>\n",
       "    </tr>\n",
       "    <tr>\n",
       "      <th>2</th>\n",
       "      <td>3</td>\n",
       "      <td>3</td>\n",
       "      <td>1</td>\n",
       "      <td>2</td>\n",
       "      <td>58</td>\n",
       "      <td>0</td>\n",
       "      <td>0</td>\n",
       "      <td>0</td>\n",
       "      <td>0</td>\n",
       "      <td>0</td>\n",
       "      <td>...</td>\n",
       "      <td>0</td>\n",
       "      <td>0</td>\n",
       "      <td>0</td>\n",
       "      <td>1</td>\n",
       "      <td>0</td>\n",
       "      <td>-1</td>\n",
       "      <td>1</td>\n",
       "      <td>-1</td>\n",
       "      <td>0</td>\n",
       "      <td>1</td>\n",
       "    </tr>\n",
       "    <tr>\n",
       "      <th>3</th>\n",
       "      <td>4</td>\n",
       "      <td>3</td>\n",
       "      <td>1</td>\n",
       "      <td>6</td>\n",
       "      <td>79</td>\n",
       "      <td>1</td>\n",
       "      <td>0</td>\n",
       "      <td>0</td>\n",
       "      <td>0</td>\n",
       "      <td>0</td>\n",
       "      <td>...</td>\n",
       "      <td>0</td>\n",
       "      <td>0</td>\n",
       "      <td>0</td>\n",
       "      <td>1</td>\n",
       "      <td>-1</td>\n",
       "      <td>1</td>\n",
       "      <td>1</td>\n",
       "      <td>1</td>\n",
       "      <td>-1</td>\n",
       "      <td>1</td>\n",
       "    </tr>\n",
       "    <tr>\n",
       "      <th>4</th>\n",
       "      <td>5</td>\n",
       "      <td>3</td>\n",
       "      <td>0</td>\n",
       "      <td>4</td>\n",
       "      <td>46</td>\n",
       "      <td>0</td>\n",
       "      <td>0</td>\n",
       "      <td>0</td>\n",
       "      <td>0</td>\n",
       "      <td>0</td>\n",
       "      <td>...</td>\n",
       "      <td>1</td>\n",
       "      <td>0</td>\n",
       "      <td>0</td>\n",
       "      <td>1</td>\n",
       "      <td>1</td>\n",
       "      <td>-1</td>\n",
       "      <td>0</td>\n",
       "      <td>-1</td>\n",
       "      <td>-1</td>\n",
       "      <td>1</td>\n",
       "    </tr>\n",
       "  </tbody>\n",
       "</table>\n",
       "<p>5 rows × 50 columns</p>\n",
       "</div>"
      ],
      "text/plain": [
       "   id  NumDots  SubdomainLevel  PathLevel  UrlLength  NumDash  \\\n",
       "0   1        3               1          5         72        0   \n",
       "1   2        3               1          3        144        0   \n",
       "2   3        3               1          2         58        0   \n",
       "3   4        3               1          6         79        1   \n",
       "4   5        3               0          4         46        0   \n",
       "\n",
       "   NumDashInHostname  AtSymbol  TildeSymbol  NumUnderscore  ...  \\\n",
       "0                  0         0            0              0  ...   \n",
       "1                  0         0            0              2  ...   \n",
       "2                  0         0            0              0  ...   \n",
       "3                  0         0            0              0  ...   \n",
       "4                  0         0            0              0  ...   \n",
       "\n",
       "   IframeOrFrame  MissingTitle  ImagesOnlyInForm  SubdomainLevelRT  \\\n",
       "0              0             0                 1                 1   \n",
       "1              0             0                 0                 1   \n",
       "2              0             0                 0                 1   \n",
       "3              0             0                 0                 1   \n",
       "4              1             0                 0                 1   \n",
       "\n",
       "   UrlLengthRT  PctExtResourceUrlsRT  AbnormalExtFormActionR  \\\n",
       "0            0                     1                       1   \n",
       "1           -1                     1                       1   \n",
       "2            0                    -1                       1   \n",
       "3           -1                     1                       1   \n",
       "4            1                    -1                       0   \n",
       "\n",
       "   ExtMetaScriptLinkRT  PctExtNullSelfRedirectHyperlinksRT  CLASS_LABEL  \n",
       "0                   -1                                   1            1  \n",
       "1                    1                                   1            1  \n",
       "2                   -1                                   0            1  \n",
       "3                    1                                  -1            1  \n",
       "4                   -1                                  -1            1  \n",
       "\n",
       "[5 rows x 50 columns]"
      ]
     },
     "execution_count": 5,
     "metadata": {},
     "output_type": "execute_result"
    }
   ],
   "source": [
    "df.head()"
   ]
  },
  {
   "cell_type": "code",
   "execution_count": 6,
   "id": "004c795d",
   "metadata": {},
   "outputs": [
    {
     "name": "stdout",
     "output_type": "stream",
     "text": [
      "<class 'pandas.core.frame.DataFrame'>\n",
      "RangeIndex: 10000 entries, 0 to 9999\n",
      "Data columns (total 50 columns):\n",
      " #   Column                              Non-Null Count  Dtype  \n",
      "---  ------                              --------------  -----  \n",
      " 0   id                                  10000 non-null  int64  \n",
      " 1   NumDots                             10000 non-null  int64  \n",
      " 2   SubdomainLevel                      10000 non-null  int64  \n",
      " 3   PathLevel                           10000 non-null  int64  \n",
      " 4   UrlLength                           10000 non-null  int64  \n",
      " 5   NumDash                             10000 non-null  int64  \n",
      " 6   NumDashInHostname                   10000 non-null  int64  \n",
      " 7   AtSymbol                            10000 non-null  int64  \n",
      " 8   TildeSymbol                         10000 non-null  int64  \n",
      " 9   NumUnderscore                       10000 non-null  int64  \n",
      " 10  NumPercent                          10000 non-null  int64  \n",
      " 11  NumQueryComponents                  10000 non-null  int64  \n",
      " 12  NumAmpersand                        10000 non-null  int64  \n",
      " 13  NumHash                             10000 non-null  int64  \n",
      " 14  NumNumericChars                     10000 non-null  int64  \n",
      " 15  NoHttps                             10000 non-null  int64  \n",
      " 16  RandomString                        10000 non-null  int64  \n",
      " 17  IpAddress                           10000 non-null  int64  \n",
      " 18  DomainInSubdomains                  10000 non-null  int64  \n",
      " 19  DomainInPaths                       10000 non-null  int64  \n",
      " 20  HttpsInHostname                     10000 non-null  int64  \n",
      " 21  HostnameLength                      10000 non-null  int64  \n",
      " 22  PathLength                          10000 non-null  int64  \n",
      " 23  QueryLength                         10000 non-null  int64  \n",
      " 24  DoubleSlashInPath                   10000 non-null  int64  \n",
      " 25  NumSensitiveWords                   10000 non-null  int64  \n",
      " 26  EmbeddedBrandName                   10000 non-null  int64  \n",
      " 27  PctExtHyperlinks                    10000 non-null  float64\n",
      " 28  PctExtResourceUrls                  10000 non-null  float64\n",
      " 29  ExtFavicon                          10000 non-null  int64  \n",
      " 30  InsecureForms                       10000 non-null  int64  \n",
      " 31  RelativeFormAction                  10000 non-null  int64  \n",
      " 32  ExtFormAction                       10000 non-null  int64  \n",
      " 33  AbnormalFormAction                  10000 non-null  int64  \n",
      " 34  PctNullSelfRedirectHyperlinks       10000 non-null  float64\n",
      " 35  FrequentDomainNameMismatch          10000 non-null  int64  \n",
      " 36  FakeLinkInStatusBar                 10000 non-null  int64  \n",
      " 37  RightClickDisabled                  10000 non-null  int64  \n",
      " 38  PopUpWindow                         10000 non-null  int64  \n",
      " 39  SubmitInfoToEmail                   10000 non-null  int64  \n",
      " 40  IframeOrFrame                       10000 non-null  int64  \n",
      " 41  MissingTitle                        10000 non-null  int64  \n",
      " 42  ImagesOnlyInForm                    10000 non-null  int64  \n",
      " 43  SubdomainLevelRT                    10000 non-null  int64  \n",
      " 44  UrlLengthRT                         10000 non-null  int64  \n",
      " 45  PctExtResourceUrlsRT                10000 non-null  int64  \n",
      " 46  AbnormalExtFormActionR              10000 non-null  int64  \n",
      " 47  ExtMetaScriptLinkRT                 10000 non-null  int64  \n",
      " 48  PctExtNullSelfRedirectHyperlinksRT  10000 non-null  int64  \n",
      " 49  CLASS_LABEL                         10000 non-null  int64  \n",
      "dtypes: float64(3), int64(47)\n",
      "memory usage: 3.8 MB\n"
     ]
    }
   ],
   "source": [
    "df.info()"
   ]
  },
  {
   "cell_type": "code",
   "execution_count": 7,
   "id": "8a925b0f",
   "metadata": {
    "scrolled": true
   },
   "outputs": [
    {
     "name": "stdout",
     "output_type": "stream",
     "text": [
      "id has 10000 unique values\n",
      "NumDots has 17 unique values\n",
      "SubdomainLevel has 13 unique values\n",
      "PathLevel has 18 unique values\n",
      "UrlLength has 226 unique values\n",
      "NumDash has 25 unique values\n",
      "NumDashInHostname contains:\t\t\t[0 1 2 4 3 5 7 6 9 8]\n",
      "AtSymbol contains:\t\t\t[0 1]\n",
      "TildeSymbol contains:\t\t\t[0 1]\n",
      "NumUnderscore has 16 unique values\n",
      "NumPercent has 14 unique values\n",
      "NumQueryComponents has 19 unique values\n",
      "NumAmpersand has 16 unique values\n",
      "NumHash contains:\t\t\t[0 1]\n",
      "NumNumericChars has 82 unique values\n",
      "NoHttps contains:\t\t\t[1 0]\n",
      "RandomString contains:\t\t\t[0 1]\n",
      "IpAddress contains:\t\t\t[0 1]\n",
      "DomainInSubdomains contains:\t\t\t[0 1]\n",
      "DomainInPaths contains:\t\t\t[0 1]\n",
      "HttpsInHostname contains:\t\t\t[0]\n",
      "HostnameLength has 74 unique values\n",
      "PathLength has 147 unique values\n",
      "QueryLength has 164 unique values\n",
      "DoubleSlashInPath contains:\t\t\t[0 1]\n",
      "NumSensitiveWords contains:\t\t\t[0 1 2 3]\n",
      "EmbeddedBrandName contains:\t\t\t[0 1]\n",
      "PctExtHyperlinks has 2510 unique values\n",
      "PctExtResourceUrls has 1489 unique values\n",
      "ExtFavicon contains:\t\t\t[1 0]\n",
      "InsecureForms contains:\t\t\t[1 0]\n",
      "RelativeFormAction contains:\t\t\t[0 1]\n",
      "ExtFormAction contains:\t\t\t[0 1]\n",
      "AbnormalFormAction contains:\t\t\t[0 1]\n",
      "PctNullSelfRedirectHyperlinks has 1311 unique values\n",
      "FrequentDomainNameMismatch contains:\t\t\t[0 1]\n",
      "FakeLinkInStatusBar contains:\t\t\t[0 1]\n",
      "RightClickDisabled contains:\t\t\t[0 1]\n",
      "PopUpWindow contains:\t\t\t[0 1]\n",
      "SubmitInfoToEmail contains:\t\t\t[0 1]\n",
      "IframeOrFrame contains:\t\t\t[0 1]\n",
      "MissingTitle contains:\t\t\t[0 1]\n",
      "ImagesOnlyInForm contains:\t\t\t[1 0]\n",
      "SubdomainLevelRT contains:\t\t\t[ 1 -1  0]\n",
      "UrlLengthRT contains:\t\t\t[ 0 -1  1]\n",
      "PctExtResourceUrlsRT contains:\t\t\t[ 1 -1  0]\n",
      "AbnormalExtFormActionR contains:\t\t\t[ 1  0 -1]\n",
      "ExtMetaScriptLinkRT contains:\t\t\t[-1  1  0]\n",
      "PctExtNullSelfRedirectHyperlinksRT contains:\t\t\t[ 1  0 -1]\n",
      "CLASS_LABEL contains:\t\t\t[1 0]\n"
     ]
    }
   ],
   "source": [
    "for col in df.columns:\n",
    "    unique_value_list = df[col].unique()\n",
    "    if len(unique_value_list) > 10:\n",
    "        print(f'{col} has {df[col].nunique()} unique values')\n",
    "    else:\n",
    "        print(f'{col} contains:\\t\\t\\t{unique_value_list}')"
   ]
  },
  {
   "cell_type": "code",
   "execution_count": 8,
   "id": "524006ab",
   "metadata": {},
   "outputs": [],
   "source": [
    "#Drop ID as it is only a label and does not hold significance to the model\n",
    "df = df.drop(columns=['id'])"
   ]
  },
  {
   "cell_type": "code",
   "execution_count": 9,
   "id": "d9faea8f",
   "metadata": {},
   "outputs": [],
   "source": [
    "#Modeling\n",
    "#Identifying the target variable and its predictors/features\n",
    "target = df['CLASS_LABEL']\n",
    "features = df[['NumDots', 'SubdomainLevel', 'PathLevel', 'UrlLength', 'NumDash', 'AtSymbol', 'TildeSymbol', 'NumUnderscore', 'NumPercent', 'NumAmpersand', 'NumHash', 'NumNumericChars', 'NoHttps']]\n",
    "\n",
    "#Split dataset into training and data set\n",
    "X_train, X_test, y_train, y_test = train_test_split(features, target, test_size=0.34, random_state=42)"
   ]
  },
  {
   "cell_type": "code",
   "execution_count": 10,
   "id": "0ce99ba5",
   "metadata": {},
   "outputs": [],
   "source": [
    "#Making the random forest model\n",
    "rf_model = RandomForestClassifier()"
   ]
  },
  {
   "cell_type": "code",
   "execution_count": 11,
   "id": "ab66b8c4",
   "metadata": {},
   "outputs": [
    {
     "data": {
      "text/plain": [
       "RandomForestClassifier()"
      ]
     },
     "execution_count": 11,
     "metadata": {},
     "output_type": "execute_result"
    }
   ],
   "source": [
    "rf_model.fit(X_train, y_train)"
   ]
  },
  {
   "cell_type": "code",
   "execution_count": 12,
   "id": "7e0b944e",
   "metadata": {},
   "outputs": [],
   "source": [
    "rf_pred = rf_model.predict(X_test)"
   ]
  },
  {
   "cell_type": "code",
   "execution_count": 13,
   "id": "6db1cb5c",
   "metadata": {},
   "outputs": [],
   "source": [
    "rf_accuracy = accuracy_score(y_test, rf_pred)"
   ]
  },
  {
   "cell_type": "code",
   "execution_count": 14,
   "id": "9774deb1",
   "metadata": {},
   "outputs": [
    {
     "name": "stdout",
     "output_type": "stream",
     "text": [
      "Random Forest Accuracy: 0.8803293149073802\n"
     ]
    }
   ],
   "source": [
    "print(\"Random Forest Accuracy:\", rf_accuracy)\n",
    "#The Accuracy was lower compared to our WEKA analysis. This is due to limited feature constraints as certain features were only chosen"
   ]
  },
  {
   "cell_type": "code",
   "execution_count": 15,
   "id": "3c8d74f8",
   "metadata": {},
   "outputs": [],
   "source": [
    "# Create a confusion matrix for the Random Forest model\n",
    "conf_matrix = confusion_matrix(y_test, rf_pred)"
   ]
  },
  {
   "cell_type": "code",
   "execution_count": 16,
   "id": "f1e0dce6",
   "metadata": {},
   "outputs": [
    {
     "data": {
      "image/png": "[encoded data removed]",
      "text/plain": [
       "<Figure size 640x480 with 2 Axes>"
      ]
     },
     "metadata": {},
     "output_type": "display_data"
    }
   ],
   "source": [
    "# Plot the confusion matrix using seaborn\n",
    "sns.heatmap(conf_matrix, annot=True, fmt='d', cmap='Blues')\n",
    "plt.xlabel('Predicted Labels')\n",
    "plt.ylabel('True Labels')\n",
    "plt.title('Confusion Matrix')\n",
    "plt.show()"
   ]
  },
  {
   "cell_type": "code",
   "execution_count": 17,
   "id": "8b09faa9",
   "metadata": {},
   "outputs": [
    {
     "name": "stderr",
     "output_type": "stream",
     "text": [
      "C:\\Users\\Jonathan Juanillo\\anaconda3\\lib\\site-packages\\sklearn\\base.py:450: UserWarning: X does not have valid feature names, but RandomForestClassifier was fitted with feature names\n",
      "  warnings.warn(\n"
     ]
    }
   ],
   "source": [
    "#Predicting New Data\n",
    "\n",
    "#Phishing Links\n",
    "    #http://empty-boat-5019.dgentile8443.workers.dev/\n",
    "    #http://ssh.si4gn5al6mobikdicjhdbmiloh.cc/\n",
    "#Legitimate Website\n",
    "    #https://scikit-learn.org/stable/modules/generated/sklearn.ensemble.RandomForestClassifier.html\n",
    "    #https://www.youtube.com/watch?v=dQw4w9WgXcQ\n",
    "\n",
    "\n",
    "url_to_test = \"https://scikit-learn.org/stable/modules/generated/sklearn.ensemble.RandomForestClassifier.html\"\n",
    "prediction = predict_url_legitimacy(url_to_test, rf_model)"
   ]
  },
  {
   "cell_type": "code",
   "execution_count": 18,
   "id": "ec455465",
   "metadata": {},
   "outputs": [
    {
     "name": "stdout",
     "output_type": "stream",
     "text": [
      "The URL 'https://scikit-learn.org/stable/modules/generated/sklearn.ensemble.RandomForestClassifier.html' is predicted as legitimate.\n"
     ]
    }
   ],
   "source": [
    "if prediction == 1:\n",
    "    print(f\"The URL '{url_to_test}' is predicted as legitimate.\")\n",
    "else:\n",
    "    print(f\"The URL '{url_to_test}' is predicted as potentially phishing.\")"
   ]
  }
 ],
 "metadata": {
  "kernelspec": {
   "display_name": "Python 3 (ipykernel)",
   "language": "python",
   "name": "python3"
  },
  "language_info": {
   "codemirror_mode": {
    "name": "ipython",
    "version": 3
   },
   "file_extension": ".py",
   "mimetype": "text/x-python",
   "name": "python",
   "nbconvert_exporter": "python",
   "pygments_lexer": "ipython3",
   "version": "3.9.13"
  }
 },
 "nbformat": 4,
 "nbformat_minor": 5
}
